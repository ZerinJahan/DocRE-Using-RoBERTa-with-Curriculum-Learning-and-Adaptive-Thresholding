{
 "cells": [
  {
   "cell_type": "code",
   "execution_count": 1,
   "id": "6b2427c8-87d8-42ba-bd66-8b509d32cb1c",
   "metadata": {},
   "outputs": [
    {
     "name": "stdout",
     "output_type": "stream",
     "text": [
      "CUDA Available: True\n",
      "GPU Count: 1\n",
      "GPU Name: NVIDIA GeForce RTX 4070 Laptop GPU\n"
     ]
    }
   ],
   "source": [
    "# ---------------------------------------\n",
    "# CUDA & Device Configuration\n",
    "# ---------------------------------------\n",
    "import torch\n",
    "print(\"CUDA Available:\", torch.cuda.is_available())  # Check if CUDA is available\n",
    "print(\"GPU Count:\", torch.cuda.device_count())       # Number of available GPUs\n",
    "print(\"GPU Name:\", torch.cuda.get_device_name(0) if torch.cuda.is_available() else \"No GPU detected\")  # Get GPU name"
   ]
  },
  {
   "cell_type": "code",
   "execution_count": 2,
   "id": "6254e9e4-bd75-4ee5-b5db-59925f6c1505",
   "metadata": {},
   "outputs": [],
   "source": [
    "# ---------------------------------------\n",
    "# Imports & Dependencies\n",
    "# ---------------------------------------\n",
    "import json \n",
    "import os\n",
    "import torch\n",
    "import torch.nn as nn\n",
    "from torch.utils.data import Dataset, DataLoader, Subset\n",
    "from transformers import AutoTokenizer, AutoModel\n",
    "import torch.nn.functional as F\n",
    "import torch.optim as optim\n",
    "from sklearn.metrics import  classification_report, accuracy_score, precision_score, recall_score, f1_score\n",
    "from sklearn.metrics import confusion_matrix, roc_curve,auc, roc_auc_score, auc\n",
    "from tqdm import tqdm\n",
    "import numpy as np\n",
    "import random\n",
    "import time\n",
    "import matplotlib.pyplot as plt\n",
    "import seaborn as sns"
   ]
  },
  {
   "cell_type": "code",
   "execution_count": 3,
   "id": "d9e6bbcd-003e-4edd-9b03-fc40ec7ad0b7",
   "metadata": {},
   "outputs": [
    {
     "name": "stdout",
     "output_type": "stream",
     "text": [
      "Using device: cuda\n"
     ]
    }
   ],
   "source": [
    "# ---------------------------------------\n",
    "# 0. Setup Device\n",
    "# ---------------------------------------\n",
    "device = torch.device(\"cuda\" if torch.cuda.is_available() else \"cpu\")  # Automatically choose GPU if available\n",
    "print(f\"Using device: {device}\")"
   ]
  },
  {
   "cell_type": "code",
   "execution_count": 4,
   "id": "4a709ab5-dc3d-49f5-9f99-86e33894a5c2",
   "metadata": {},
   "outputs": [],
   "source": [
    "# ---------------------------------------\n",
    "# 1. Dataset Path Configuration\n",
    "# ---------------------------------------\n",
    "dataset_path = r\"E:/Dataset 2\"\n",
    "file_names = [\"train_revised.json\", \"dev_revised.json\", \"test_revised.json\"]"
   ]
  },
  {
   "cell_type": "code",
   "execution_count": 5,
   "id": "bf2e5294-3150-4539-96a2-e5eff522c123",
   "metadata": {},
   "outputs": [],
   "source": [
    "# ---------------------------------------\n",
    "# 2. Load JSON Datasets\n",
    "# ---------------------------------------\n",
    "datasets = {}\n",
    "for file_name in file_names:\n",
    "    with open(os.path.join(dataset_path, file_name), 'r', encoding='utf-8') as f:\n",
    "        datasets[file_name] = json.load(f)  # Load each JSON file into a Python dictionary"
   ]
  },
  {
   "cell_type": "code",
   "execution_count": 6,
   "id": "99463229-eba1-4584-8afe-4e4167c3fd27",
   "metadata": {},
   "outputs": [],
   "source": [
    "# ---------------------------------------\n",
    "# 3. Load Tokenizer\n",
    "# ---------------------------------------\n",
    "tokenizer = AutoTokenizer.from_pretrained(\"roberta-base\")  # Pre-trained RoBERTa tokenizer from HuggingFace"
   ]
  },
  {
   "cell_type": "code",
   "execution_count": 7,
   "id": "f659dc1b-d9e5-45ed-8c0c-df490b343e3b",
   "metadata": {},
   "outputs": [],
   "source": [
    "# ---------------------------------------\n",
    "# 4. Custom Dataset with Curriculum Learning\n",
    "# ---------------------------------------\n",
    "class DocRED_Dataset(Dataset):\n",
    "    def __init__(self, data, tokenizer, max_length=512, max_entities=64):\n",
    "        self.data = data\n",
    "        self.tokenizer = tokenizer\n",
    "        self.max_length = max_length\n",
    "        self.max_entities = max_entities\n",
    "        self.samples = self._process()  # Preprocess and tokenize data\n",
    "        self.samples.sort(key=lambda x: x[\"difficulty\"])  # Sort samples by difficulty for curriculum learning\n",
    "\n",
    "    def _process(self):\n",
    "        samples = []\n",
    "        for item in self.data:\n",
    "            flat_text = \" \".join([\" \".join(sent) for sent in item[\"sents\"]])  # Flatten nested sentence structure\n",
    "            inputs = self.tokenizer(\n",
    "                flat_text,\n",
    "                truncation=True,\n",
    "                padding=\"max_length\",\n",
    "                max_length=self.max_length,\n",
    "                return_tensors=\"pt\"\n",
    "            )\n",
    "\n",
    "            # Create binary label tensor for entity relations\n",
    "            label_tensor = torch.zeros((self.max_entities, self.max_entities))\n",
    "            for rel in item.get(\"labels\", []):\n",
    "                h_idx, t_idx = rel[\"h\"], rel[\"t\"]\n",
    "                if h_idx < self.max_entities and t_idx < self.max_entities:\n",
    "                    label_tensor[h_idx][t_idx] = 1\n",
    "\n",
    "            # Difficulty based on number of entities (used for curriculum learning)\n",
    "            entity_count = min(len(item[\"vertexSet\"]), self.max_entities)\n",
    "            difficulty = entity_count * entity_count\n",
    "\n",
    "            samples.append({\n",
    "                \"input_ids\": inputs[\"input_ids\"].squeeze(0),\n",
    "                \"attention_mask\": inputs[\"attention_mask\"].squeeze(0),\n",
    "                \"labels\": label_tensor,\n",
    "                \"difficulty\": difficulty\n",
    "            })\n",
    "        return samples\n",
    "\n",
    "    def __len__(self):\n",
    "        return len(self.samples)\n",
    "\n",
    "    def __getitem__(self, idx):\n",
    "        sample = self.samples[idx]\n",
    "        return {\n",
    "            \"input_ids\": sample[\"input_ids\"],\n",
    "            \"attention_mask\": sample[\"attention_mask\"],\n",
    "            \"labels\": sample[\"labels\"]\n",
    "        }\n",
    "\n",
    "    def get_curriculum_subset(self, percent=1.0):\n",
    "        size = int(len(self.samples) * percent)\n",
    "        return Subset(self, list(range(size)))  # Return a subset of the dataset for curriculum learning"
   ]
  },
  {
   "cell_type": "code",
   "execution_count": 8,
   "id": "5b32d5c1-32ef-4a4f-9a3e-3952e6abc860",
   "metadata": {},
   "outputs": [],
   "source": [
    "# ---------------------------------------\n",
    "# 5. Relation Extraction Model (RoBERTa-based)\n",
    "# ---------------------------------------\n",
    "class DocREModel(nn.Module):\n",
    "    def __init__(self, model_name=\"roberta-base\", hidden_size=768, max_entities=64):\n",
    "        super(DocREModel, self).__init__()\n",
    "        self.max_entities = max_entities\n",
    "        self.encoder = AutoModel.from_pretrained(model_name)  # Load pre-trained RoBERTa encoder\n",
    "        self.classifier = nn.Linear(hidden_size, max_entities * max_entities)  # Classifier to predict relation matrix\n",
    "\n",
    "    def forward(self, input_ids, attention_mask):\n",
    "        outputs = self.encoder(input_ids=input_ids, attention_mask=attention_mask)\n",
    "        cls_output = outputs.last_hidden_state[:, 0, :]  # Use [CLS] token representation\n",
    "        logits = self.classifier(cls_output)\n",
    "        return logits.view(-1, self.max_entities, self.max_entities)  # Reshape to relation matrix"
   ]
  },
  {
   "cell_type": "code",
   "execution_count": 9,
   "id": "72c6ec6e-7746-44f0-861e-9520e267fea9",
   "metadata": {},
   "outputs": [],
   "source": [
    "# ---------------------------------------\n",
    "# 6. Compute Positive Class Weight\n",
    "# ---------------------------------------\n",
    "def compute_pos_weight(dataloader):\n",
    "    total_pos = 0\n",
    "    total_neg = 0\n",
    "    for batch in dataloader:\n",
    "        labels = batch['labels']\n",
    "        total_pos += labels.sum().item()\n",
    "        total_neg += labels.numel() - labels.sum().item()\n",
    "    return torch.tensor(total_neg / (total_pos + 1e-6)).to(device)  # Avoid division by zero"
   ]
  },
  {
   "cell_type": "code",
   "execution_count": 10,
   "id": "7fcbc899-4624-4faf-b344-f121caec3dca",
   "metadata": {},
   "outputs": [],
   "source": [
    "# ---------------------------------------\n",
    "# 7. Training Function with Adaptive Thresholding\n",
    "# ---------------------------------------\n",
    "def train(model, dataloader, optimizer, loss_fn, threshold=0.5):\n",
    "    model.train()\n",
    "    total_loss = 0\n",
    "    all_preds, all_labels = [], []\n",
    "\n",
    "    for batch in tqdm(dataloader, desc=\"Training\"):\n",
    "        input_ids = batch['input_ids'].to(device)\n",
    "        attention_mask = batch['attention_mask'].to(device)\n",
    "        labels = batch['labels'].float().to(device)\n",
    "\n",
    "        optimizer.zero_grad()\n",
    "        logits = model(input_ids, attention_mask)\n",
    "        loss = loss_fn(logits, labels)\n",
    "        loss.backward()\n",
    "        optimizer.step()\n",
    "\n",
    "        total_loss += loss.item()\n",
    "\n",
    "        probs = torch.sigmoid(logits).detach().cpu().numpy()  # Apply sigmoid to get probabilities\n",
    "        preds = (probs > threshold).astype(int)               # Binarize predictions using threshold\n",
    "        all_preds.extend(preds.flatten())\n",
    "        all_labels.extend(labels.cpu().numpy().flatten())\n",
    "\n",
    "    acc = accuracy_score(all_labels, all_preds)\n",
    "    print(classification_report(all_labels, all_preds, digits=4))\n",
    "    return total_loss / len(dataloader), acc  # Return average loss and accuracy"
   ]
  },
  {
   "cell_type": "code",
   "execution_count": 11,
   "id": "1a0531a5-945a-47e7-ab80-3d7b28ae593f",
   "metadata": {},
   "outputs": [],
   "source": [
    "# ---------------------------------------\n",
    "# 8. Evaluation Function\n",
    "# ---------------------------------------\n",
    "def evaluate(model, dataloader, loss_fn, threshold=0.5, title=\"Eval\"):\n",
    "    model.eval()\n",
    "    total_loss = 0\n",
    "    all_preds, all_labels = [], []\n",
    "\n",
    "    with torch.no_grad():\n",
    "        for batch in tqdm(dataloader, desc=title):\n",
    "            input_ids = batch['input_ids'].to(device)\n",
    "            attention_mask = batch['attention_mask'].to(device)\n",
    "            labels = batch['labels'].float().to(device)\n",
    "\n",
    "            logits = model(input_ids, attention_mask)\n",
    "            loss = loss_fn(logits, labels)\n",
    "            total_loss += loss.item()\n",
    "\n",
    "            probs = torch.sigmoid(logits).cpu().numpy()\n",
    "            preds = (probs > threshold).astype(int)\n",
    "            all_preds.extend(preds.flatten())\n",
    "            all_labels.extend(labels.cpu().numpy().flatten())\n",
    "\n",
    "    acc = accuracy_score(all_labels, all_preds)\n",
    "    return total_loss / len(dataloader), acc, all_labels, all_preds"
   ]
  },
  {
   "cell_type": "code",
   "execution_count": 12,
   "id": "ea55f6b6-5aa9-43b7-942d-0480f6232062",
   "metadata": {},
   "outputs": [],
   "source": [
    "# ---------------------------------------\n",
    "# 9. Prepare Datasets & Dataloaders\n",
    "# ---------------------------------------\n",
    "max_entities = 64\n",
    "train_dataset = DocRED_Dataset(datasets[\"train_revised.json\"], tokenizer, max_entities=max_entities)\n",
    "dev_dataset = DocRED_Dataset(datasets[\"dev_revised.json\"], tokenizer, max_entities=max_entities)\n",
    "test_dataset = DocRED_Dataset(datasets[\"test_revised.json\"], tokenizer, max_entities=max_entities)\n",
    "\n",
    "dev_loader = DataLoader(dev_dataset, batch_size=16)\n",
    "test_loader = DataLoader(test_dataset, batch_size=16)"
   ]
  },
  {
   "cell_type": "code",
   "execution_count": 13,
   "id": "d6c05714-19f3-493f-ad85-8dce6336b787",
   "metadata": {},
   "outputs": [
    {
     "name": "stderr",
     "output_type": "stream",
     "text": [
      "Some weights of RobertaModel were not initialized from the model checkpoint at roberta-base and are newly initialized: ['pooler.dense.bias', 'pooler.dense.weight']\n",
      "You should probably TRAIN this model on a down-stream task to be able to use it for predictions and inference.\n"
     ]
    }
   ],
   "source": [
    "# ---------------------------------------\n",
    "# 10. Initialize Model, Loss Function, Optimizer\n",
    "# ---------------------------------------\n",
    "model = DocREModel(model_name=\"roberta-base\", hidden_size=768, max_entities=64).to(device)\n",
    "pos_weight = compute_pos_weight(DataLoader(train_dataset, batch_size=16))\n",
    "loss_fn = nn.BCEWithLogitsLoss(pos_weight=pos_weight)  # Handle class imbalance\n",
    "optimizer = optim.AdamW(model.parameters(), lr=1e-4)"
   ]
  },
  {
   "cell_type": "code",
   "execution_count": 14,
   "id": "693c3382-a515-4487-925d-cd26d985a76c",
   "metadata": {},
   "outputs": [
    {
     "name": "stdout",
     "output_type": "stream",
     "text": [
      "\n",
      " Epoch 1\n",
      " Curriculum: using top 0.20 easiest samples\n"
     ]
    },
    {
     "name": "stderr",
     "output_type": "stream",
     "text": [
      "Training: 100%|█████████████████████████████████████████████████████████████████████████████████████████████████████████████████████████████████████████████████████████| 77/77 [00:25<00:00,  3.06it/s]\n"
     ]
    },
    {
     "name": "stdout",
     "output_type": "stream",
     "text": [
      "              precision    recall  f1-score   support\n",
      "\n",
      "         0.0     0.9993    0.9781    0.9886   2489974\n",
      "         1.0     0.1107    0.7905    0.1943      8586\n",
      "\n",
      "    accuracy                         0.9775   2498560\n",
      "   macro avg     0.5550    0.8843    0.5914   2498560\n",
      "weighted avg     0.9962    0.9775    0.9858   2498560\n",
      "\n"
     ]
    },
    {
     "name": "stderr",
     "output_type": "stream",
     "text": [
      "Validation: 100%|███████████████████████████████████████████████████████████████████████████████████████████████████████████████████████████████████████████████████████| 32/32 [00:06<00:00,  4.91it/s]\n"
     ]
    },
    {
     "name": "stdout",
     "output_type": "stream",
     "text": [
      " Train Loss: 0.4458, Accuracy: 0.9775\n",
      " Val   Loss: 1.3722, Accuracy: 0.9678\n",
      "\n",
      " Validation Classification Report\n",
      "              precision    recall  f1-score   support\n",
      "\n",
      "         0.0     0.9977    0.9699    0.9836   2034638\n",
      "         1.0     0.1246    0.6524    0.2092     13362\n",
      "\n",
      "    accuracy                         0.9678   2048000\n",
      "   macro avg     0.5611    0.8112    0.5964   2048000\n",
      "weighted avg     0.9920    0.9678    0.9785   2048000\n",
      "\n",
      " AUC Score: 0.8112\n",
      " Adaptive Threshold: 0.6900\n",
      " Epoch Time: 0.64 minutes\n",
      "\n",
      " Epoch 2\n",
      " Curriculum: using top 0.40 easiest samples\n"
     ]
    },
    {
     "name": "stderr",
     "output_type": "stream",
     "text": [
      "Training: 100%|███████████████████████████████████████████████████████████████████████████████████████████████████████████████████████████████████████████████████████| 153/153 [00:50<00:00,  3.04it/s]\n"
     ]
    },
    {
     "name": "stdout",
     "output_type": "stream",
     "text": [
      "              precision    recall  f1-score   support\n",
      "\n",
      "         0.0     0.9997    0.9617    0.9803   4981096\n",
      "         1.0     0.0886    0.9212    0.1616     20120\n",
      "\n",
      "    accuracy                         0.9615   5001216\n",
      "   macro avg     0.5441    0.9415    0.5710   5001216\n",
      "weighted avg     0.9960    0.9615    0.9770   5001216\n",
      "\n"
     ]
    },
    {
     "name": "stderr",
     "output_type": "stream",
     "text": [
      "Validation: 100%|███████████████████████████████████████████████████████████████████████████████████████████████████████████████████████████████████████████████████████| 32/32 [00:06<00:00,  5.27it/s]\n"
     ]
    },
    {
     "name": "stdout",
     "output_type": "stream",
     "text": [
      " Train Loss: 0.2467, Accuracy: 0.9615\n",
      " Val   Loss: 1.3463, Accuracy: 0.9546\n",
      "\n",
      " Validation Classification Report\n",
      "              precision    recall  f1-score   support\n",
      "\n",
      "         0.0     0.9984    0.9559    0.9767   2034638\n",
      "         1.0     0.1017    0.7597    0.1794     13362\n",
      "\n",
      "    accuracy                         0.9546   2048000\n",
      "   macro avg     0.5500    0.8578    0.5780   2048000\n",
      "weighted avg     0.9925    0.9546    0.9715   2048000\n",
      "\n",
      " AUC Score: 0.8578\n",
      " Adaptive Threshold: 0.6800\n",
      " Epoch Time: 1.14 minutes\n",
      "\n",
      " Epoch 3\n",
      " Curriculum: using top 0.60 easiest samples\n"
     ]
    },
    {
     "name": "stderr",
     "output_type": "stream",
     "text": [
      "Training: 100%|███████████████████████████████████████████████████████████████████████████████████████████████████████████████████████████████████████████████████████| 229/229 [01:14<00:00,  3.06it/s]\n"
     ]
    },
    {
     "name": "stdout",
     "output_type": "stream",
     "text": [
      "              precision    recall  f1-score   support\n",
      "\n",
      "         0.0     0.9997    0.9465    0.9724   7465922\n",
      "         1.0     0.0740    0.9428    0.1372     33854\n",
      "\n",
      "    accuracy                         0.9465   7499776\n",
      "   macro avg     0.5369    0.9446    0.5548   7499776\n",
      "weighted avg     0.9955    0.9465    0.9686   7499776\n",
      "\n"
     ]
    },
    {
     "name": "stderr",
     "output_type": "stream",
     "text": [
      "Validation: 100%|███████████████████████████████████████████████████████████████████████████████████████████████████████████████████████████████████████████████████████| 32/32 [00:06<00:00,  5.26it/s]\n"
     ]
    },
    {
     "name": "stdout",
     "output_type": "stream",
     "text": [
      " Train Loss: 0.2660, Accuracy: 0.9465\n",
      " Val   Loss: 0.9937, Accuracy: 0.9412\n",
      "\n",
      " Validation Classification Report\n",
      "              precision    recall  f1-score   support\n",
      "\n",
      "         0.0     0.9989    0.9419    0.9696   2034638\n",
      "         1.0     0.0869    0.8427    0.1576     13362\n",
      "\n",
      "    accuracy                         0.9412   2048000\n",
      "   macro avg     0.5429    0.8923    0.5636   2048000\n",
      "weighted avg     0.9930    0.9412    0.9643   2048000\n",
      "\n",
      " AUC Score: 0.8923\n",
      " Adaptive Threshold: 0.6700\n",
      " Epoch Time: 1.63 minutes\n",
      "\n",
      " Epoch 4\n",
      " Curriculum: using top 0.80 easiest samples\n"
     ]
    },
    {
     "name": "stderr",
     "output_type": "stream",
     "text": [
      "Training: 100%|███████████████████████████████████████████████████████████████████████████████████████████████████████████████████████████████████████████████████████| 306/306 [01:40<00:00,  3.05it/s]\n"
     ]
    },
    {
     "name": "stdout",
     "output_type": "stream",
     "text": [
      "              precision    recall  f1-score   support\n",
      "\n",
      "         0.0     0.9997    0.9310    0.9641   9953262\n",
      "         1.0     0.0631    0.9408    0.1183     49170\n",
      "\n",
      "    accuracy                         0.9311  10002432\n",
      "   macro avg     0.5314    0.9359    0.5412  10002432\n",
      "weighted avg     0.9951    0.9311    0.9600  10002432\n",
      "\n"
     ]
    },
    {
     "name": "stderr",
     "output_type": "stream",
     "text": [
      "Validation: 100%|███████████████████████████████████████████████████████████████████████████████████████████████████████████████████████████████████████████████████████| 32/32 [00:06<00:00,  5.06it/s]\n"
     ]
    },
    {
     "name": "stdout",
     "output_type": "stream",
     "text": [
      " Train Loss: 0.3150, Accuracy: 0.9311\n",
      " Val   Loss: 0.6686, Accuracy: 0.9296\n",
      "\n",
      " Validation Classification Report\n",
      "              precision    recall  f1-score   support\n",
      "\n",
      "         0.0     0.9992    0.9299    0.9633   2034638\n",
      "         1.0     0.0768    0.8879    0.1414     13362\n",
      "\n",
      "    accuracy                         0.9296   2048000\n",
      "   macro avg     0.5380    0.9089    0.5523   2048000\n",
      "weighted avg     0.9932    0.9296    0.9579   2048000\n",
      "\n",
      " AUC Score: 0.9089\n",
      " Adaptive Threshold: 0.6800\n",
      " Epoch Time: 2.23 minutes\n",
      "\n",
      " Epoch 5\n",
      " Curriculum: using top 1.00 easiest samples\n"
     ]
    },
    {
     "name": "stderr",
     "output_type": "stream",
     "text": [
      "Training: 100%|███████████████████████████████████████████████████████████████████████████████████████████████████████████████████████████████████████████████████████| 382/382 [02:18<00:00,  2.75it/s]\n"
     ]
    },
    {
     "name": "stdout",
     "output_type": "stream",
     "text": [
      "              precision    recall  f1-score   support\n",
      "\n",
      "         0.0     0.9995    0.9163    0.9561  12437280\n",
      "         1.0     0.0562    0.9138    0.1059     67808\n",
      "\n",
      "    accuracy                         0.9163  12505088\n",
      "   macro avg     0.5278    0.9151    0.5310  12505088\n",
      "weighted avg     0.9944    0.9163    0.9515  12505088\n",
      "\n"
     ]
    },
    {
     "name": "stderr",
     "output_type": "stream",
     "text": [
      "Validation: 100%|███████████████████████████████████████████████████████████████████████████████████████████████████████████████████████████████████████████████████████| 32/32 [00:06<00:00,  5.20it/s]\n"
     ]
    },
    {
     "name": "stdout",
     "output_type": "stream",
     "text": [
      " Train Loss: 0.4114, Accuracy: 0.9163\n",
      " Val   Loss: 0.4361, Accuracy: 0.9155\n",
      "\n",
      " Validation Classification Report\n",
      "              precision    recall  f1-score   support\n",
      "\n",
      "         0.0     0.9995    0.9154    0.9556   2034638\n",
      "         1.0     0.0671    0.9260    0.1251     13362\n",
      "\n",
      "    accuracy                         0.9155   2048000\n",
      "   macro avg     0.5333    0.9207    0.5403   2048000\n",
      "weighted avg     0.9934    0.9155    0.9502   2048000\n",
      "\n",
      " AUC Score: 0.9207\n",
      " Adaptive Threshold: 0.6900\n",
      " Epoch Time: 2.84 minutes\n"
     ]
    }
   ],
   "source": [
    "# ---------------------------------------\n",
    "# 11. Training Loop with Curriculum Learning & Adaptive Threshold\n",
    "# ---------------------------------------\n",
    "train_losses = []\n",
    "train_accuracies = []\n",
    "val_losses = []\n",
    "val_accuracies = []\n",
    "\n",
    "best_val_loss = float('inf')\n",
    "patience = 3\n",
    "patience_counter = 0\n",
    "\n",
    "adaptive_threshold = 0.7\n",
    "threshold_step = 0.01\n",
    "min_threshold = 0.65\n",
    "max_threshold = 0.85\n",
    "\n",
    "overall_start_time = time.time()\n",
    "EPOCHS = 5\n",
    "curriculum_schedule = np.linspace(0.2, 1.0, EPOCHS)  # Gradual increase in difficulty\n",
    "\n",
    "for epoch in range(EPOCHS):\n",
    "    print(f\"\\n Epoch {epoch+1}\")\n",
    "    epoch_start_time = time.time()\n",
    "\n",
    "    percent = curriculum_schedule[epoch]\n",
    "    print(f\" Curriculum: using top {percent:.2f} easiest samples\")\n",
    "    train_subset = train_dataset.get_curriculum_subset(percent)\n",
    "    train_loader = DataLoader(train_subset, batch_size=8, shuffle=True)\n",
    "\n",
    "    train_loss, train_acc = train(model, train_loader, optimizer, loss_fn, threshold=adaptive_threshold)\n",
    "    val_loss, val_acc, val_labels, val_preds = evaluate(model, dev_loader, loss_fn, threshold=adaptive_threshold, title=\"Validation\")\n",
    "\n",
    "    print(f\" Train Loss: {train_loss:.4f}, Accuracy: {train_acc:.4f}\")\n",
    "    print(f\" Val   Loss: {val_loss:.4f}, Accuracy: {val_acc:.4f}\")\n",
    "\n",
    "    train_losses.append(train_loss)\n",
    "    train_accuracies.append(train_acc)\n",
    "    val_losses.append(val_loss)\n",
    "    val_accuracies.append(val_acc)\n",
    "\n",
    "    print(\"\\n Validation Classification Report\")\n",
    "    print(classification_report(val_labels, val_preds, digits=4))\n",
    "\n",
    "    auc_val = roc_auc_score(val_labels, val_preds)\n",
    "    print(f\" AUC Score: {auc_val:.4f}\")\n",
    "\n",
    "    # Update threshold based on validation AUC\n",
    "    if auc_val < 0.9:\n",
    "        adaptive_threshold = max(min_threshold, adaptive_threshold - threshold_step)\n",
    "    else:\n",
    "        adaptive_threshold = min(max_threshold, adaptive_threshold + threshold_step)\n",
    "    print(f\" Adaptive Threshold: {adaptive_threshold:.4f}\")\n",
    "\n",
    "    epoch_end_time = time.time()\n",
    "    print(f\" Epoch Time: {(epoch_end_time - epoch_start_time) / 60:.2f} minutes\")\n",
    "\n",
    "    # Early stopping logic\n",
    "    if val_loss < best_val_loss:\n",
    "        best_val_loss = val_loss\n",
    "        patience_counter = 0\n",
    "        best_model_state = model.state_dict()\n",
    "    else:\n",
    "        patience_counter += 1\n",
    "        print(f\" Early stopping patience counter: {patience_counter}/{patience}\")\n",
    "        if patience_counter >= patience:\n",
    "            print(\" Early stopping triggered.\")\n",
    "            break\n",
    "            \n",
    "overall_end_time = time.time()"
   ]
  },
  {
   "cell_type": "code",
   "execution_count": 15,
   "id": "63f9bfc0-efc3-4965-8d7d-34200326c6df",
   "metadata": {},
   "outputs": [
    {
     "name": "stdout",
     "output_type": "stream",
     "text": [
      "\n",
      " Total Training Time: 8.47 minutes\n"
     ]
    }
   ],
   "source": [
    "# ---------------------------------------\n",
    "#  Total Training Time\n",
    "# ---------------------------------------\n",
    "total_training_time = (overall_end_time - overall_start_time) / 60\n",
    "print(f\"\\n Total Training Time: {total_training_time:.2f} minutes\")"
   ]
  },
  {
   "cell_type": "code",
   "execution_count": 16,
   "id": "59f6ca74-3201-42b8-a755-b3279ca07631",
   "metadata": {},
   "outputs": [
    {
     "name": "stderr",
     "output_type": "stream",
     "text": [
      "Final Validation: 100%|█████████████████████████████████████████████████████████████████████████████████████████████████████████████████████████████████████████████████| 32/32 [00:06<00:00,  5.30it/s]\n"
     ]
    },
    {
     "name": "stdout",
     "output_type": "stream",
     "text": [
      " Final Adaptive Threshold: 0.6900\n",
      " Final Validation AUC (Best Model): 0.9257\n"
     ]
    }
   ],
   "source": [
    "# ---------------------------------------\n",
    "#  Load Best Model & Final Dev Evaluation\n",
    "# ---------------------------------------\n",
    "model.load_state_dict(best_model_state)\n",
    "val_loss, val_acc, val_labels, val_preds = evaluate(model, dev_loader, loss_fn, title=\"Final Validation\")\n",
    "final_auc = roc_auc_score(val_labels, val_preds)\n",
    "print(f\" Final Adaptive Threshold: {adaptive_threshold:.4f}\")\n",
    "print(f\" Final Validation AUC (Best Model): {final_auc:.4f}\")"
   ]
  },
  {
   "cell_type": "code",
   "execution_count": 17,
   "id": "9e4ade83-f302-45a0-9b35-9529b840ca46",
   "metadata": {},
   "outputs": [
    {
     "name": "stderr",
     "output_type": "stream",
     "text": [
      "Test: 100%|█████████████████████████████████████████████████████████████████████████████████████████████████████████████████████████████████████████████████████████████| 32/32 [00:05<00:00,  5.38it/s]\n"
     ]
    },
    {
     "name": "stdout",
     "output_type": "stream",
     "text": [
      "\n",
      " Test Loss: 0.5090, Accuracy: 0.8817\n",
      "\n",
      " Final Test Classification Report\n",
      "              precision    recall  f1-score   support\n",
      "\n",
      "         0.0     0.9997    0.8811    0.9367   2034373\n",
      "         1.0     0.0516    0.9651    0.0979     13627\n",
      "\n",
      "    accuracy                         0.8817   2048000\n",
      "   macro avg     0.5257    0.9231    0.5173   2048000\n",
      "weighted avg     0.9934    0.8817    0.9311   2048000\n",
      "\n"
     ]
    }
   ],
   "source": [
    "# ---------------------------------------\n",
    "#  Final Test Set Evaluation\n",
    "# ---------------------------------------\n",
    "test_loss, test_acc, test_labels, test_preds = evaluate(model, test_loader, loss_fn, title=\"Test\")\n",
    "print(f\"\\n Test Loss: {test_loss:.4f}, Accuracy: {test_acc:.4f}\")\n",
    "print(\"\\n Final Test Classification Report\")\n",
    "print(classification_report(test_labels, test_preds, digits=4))"
   ]
  },
  {
   "cell_type": "code",
   "execution_count": 18,
   "id": "a478b883-3b08-4bba-a284-6e2fc884647b",
   "metadata": {},
   "outputs": [
    {
     "name": "stdout",
     "output_type": "stream",
     "text": [
      "\n",
      " Final Test Metrics (Percentage Format):\n",
      " Accuracy : 88.17%\n",
      " Precision: 5.16%\n",
      " Recall   : 96.51%\n",
      " F1 Score : 9.79%\n"
     ]
    }
   ],
   "source": [
    "# ---------------------------------------\n",
    "#  Final Test Metrics (Percent Format)\n",
    "# ---------------------------------------\n",
    "\n",
    "# Compute evaluation metrics on test predictions\n",
    "test_accuracy = accuracy_score(test_labels, test_preds)\n",
    "test_precision = precision_score(test_labels, test_preds)\n",
    "test_recall = recall_score(test_labels, test_preds)\n",
    "test_f1 = f1_score(test_labels, test_preds)\n",
    "\n",
    "# Display results in percentage format with 2 decimal places\n",
    "print(f\"\\n Final Test Metrics (Percentage Format):\")\n",
    "print(f\" Accuracy : {test_accuracy * 100:.2f}%\")    \n",
    "print(f\" Precision: {test_precision * 100:.2f}%\")    \n",
    "print(f\" Recall   : {test_recall * 100:.2f}%\")       \n",
    "print(f\" F1 Score : {test_f1 * 100:.2f}%\")            "
   ]
  },
  {
   "cell_type": "code",
   "execution_count": 19,
   "id": "a9233aa9-1110-4afc-9f40-b31257a38062",
   "metadata": {},
   "outputs": [
    {
     "data": {
      "image/png": "[encoded data removed]",
      "text/plain": [
       "<Figure size 600x500 with 2 Axes>"
      ]
     },
     "metadata": {},
     "output_type": "display_data"
    }
   ],
   "source": [
    "# ---------------------------------------\n",
    "#  Confusion Matrix\n",
    "# ---------------------------------------\n",
    "cm = confusion_matrix(test_labels, test_preds)\n",
    "plt.figure(figsize=(6, 5))\n",
    "sns.heatmap(cm, annot=True, fmt='d', cmap='Blues')\n",
    "plt.title('Confusion Matrix')\n",
    "plt.xlabel('Predicted')\n",
    "plt.ylabel('True')\n",
    "plt.savefig('E:/confusion_matrix.png', dpi=300, bbox_inches='tight')\n",
    "plt.show()"
   ]
  },
  {
   "cell_type": "code",
   "execution_count": 20,
   "id": "2722c67c-01c6-4e24-b628-7f7db5d44c9f",
   "metadata": {},
   "outputs": [
    {
     "data": {
      "image/png": "[encoded data removed]",
      "text/plain": [
       "<Figure size 640x480 with 1 Axes>"
      ]
     },
     "metadata": {},
     "output_type": "display_data"
    }
   ],
   "source": [
    "# ---------------------------------------\n",
    "#  ROC Curve\n",
    "# ---------------------------------------\n",
    "fpr, tpr, _ = roc_curve(test_labels, test_preds)\n",
    "roc_auc = auc(fpr, tpr)\n",
    "plt.figure()\n",
    "plt.plot(fpr, tpr, label=f'ROC curve (area = {roc_auc:.4f})')\n",
    "plt.plot([0, 1], [0, 1], linestyle='--')\n",
    "plt.title('ROC Curve')\n",
    "plt.xlabel('False Positive Rate')\n",
    "plt.ylabel('True Positive Rate')\n",
    "plt.legend(loc='lower right')\n",
    "plt.grid(True)\n",
    "plt.savefig('E:/roc_curve.png', dpi=300, bbox_inches='tight')\n",
    "plt.show()"
   ]
  },
  {
   "cell_type": "code",
   "execution_count": null,
   "id": "af6204a9-eda5-4f01-99fd-2b73cf11bad9",
   "metadata": {},
   "outputs": [],
   "source": []
  }
 ],
 "metadata": {
  "kernelspec": {
   "display_name": "Python 3 (ipykernel)",
   "language": "python",
   "name": "python3"
  },
  "language_info": {
   "codemirror_mode": {
    "name": "ipython",
    "version": 3
   },
   "file_extension": ".py",
   "mimetype": "text/x-python",
   "name": "python",
   "nbconvert_exporter": "python",
   "pygments_lexer": "ipython3",
   "version": "3.12.7"
  }
 },
 "nbformat": 4,
 "nbformat_minor": 5
}
